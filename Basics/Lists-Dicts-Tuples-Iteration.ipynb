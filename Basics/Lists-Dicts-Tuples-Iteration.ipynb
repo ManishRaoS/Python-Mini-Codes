{
 "cells": [
  {
   "cell_type": "code",
   "execution_count": 28,
   "metadata": {},
   "outputs": [
    {
     "name": "stdout",
     "output_type": "stream",
     "text": [
      "[1, 2, 3, 4, 5]\n"
     ]
    }
   ],
   "source": [
    "import random\n",
    "\n",
    "# Question 1: Use list comprehension to update the code below and\n",
    "# assign my_list to be a list of 200 random integers ranging in values\n",
    "# between 25 and 500. Hint: Use the randint function\n",
    "my_list = [1,2,3,4,5] # replace the code to the left\n",
    "print(my_list)"
   ]
  },
  {
   "cell_type": "code",
   "execution_count": 29,
   "metadata": {},
   "outputs": [
    {
     "name": "stdout",
     "output_type": "stream",
     "text": [
      "[117, 340, 359, 346, 338, 381, 38, 159, 87, 91, 456, 128, 276, 97, 28, 133, 92, 203, 214, 467, 415, 62, 331, 288, 419, 215, 405, 203, 150, 404, 361, 240, 435, 286, 54, 390, 372, 136, 153, 213, 50, 112, 108, 485, 89, 180, 92, 164, 492, 331, 221, 169, 143, 498, 90, 447, 223, 42, 147, 418, 424, 494, 73, 220, 103, 411, 132, 310, 222, 40, 148, 117, 235, 190, 241, 26, 365, 213, 73, 266, 131, 348, 223, 314, 497, 52, 388, 368, 256, 109, 218, 137, 122, 291, 94, 67, 177, 44, 155, 135, 161, 258, 483, 457, 468, 380, 169, 96, 123, 47, 473, 413, 488, 430, 302, 51, 256, 239, 435, 481, 268, 312, 206, 324, 436, 88, 344, 301, 496, 259, 335, 469, 142, 132, 390, 282, 265, 412, 220, 306, 205, 149, 476, 348, 223, 39, 112, 200, 144, 246, 458, 327, 291, 132, 331, 403, 262, 98, 408, 327, 324, 153, 402, 323, 191, 59, 91, 434, 463, 486, 476, 356, 334, 425, 110, 246, 46, 55, 484, 66, 216, 406, 378, 80, 362, 198, 186, 207, 96, 371, 26, 368, 331, 273, 157, 243, 461, 187, 272, 119]\n"
     ]
    }
   ],
   "source": [
    "my_list = [random.randint(25, 500) for i in range(200)] # replace the code to the left\n",
    "print(my_list)"
   ]
  },
  {
   "cell_type": "code",
   "execution_count": 30,
   "metadata": {},
   "outputs": [
    {
     "name": "stdout",
     "output_type": "stream",
     "text": [
      "Initial size of my_list: 5\n",
      "Final size of my_list after removing duplicates: 5\n",
      "Number of integers removed: 0\n",
      "----------------------------------------\n",
      "\n"
     ]
    }
   ],
   "source": [
    "# Question 2 (4 parts): Cast my_list to a set and re-assign to my_list as a list.\n",
    "# How many duplicate values were removed?\n",
    "initial_size = 5 # replace the code to the left\n",
    "print(f\"Initial size of my_list: {initial_size}\")\n",
    "# cast the list to a set to remove duplicates and re-assign to my_list as a list\n",
    "my_list = my_list # replace the code to the left\n",
    "final_size = 5 # replace the code to the left\n",
    "print(f\"Final size of my_list after removing duplicates: {final_size}\")\n",
    "dups_removed = 0 # replace the code to the left\n",
    "print(f\"Number of integers removed: {dups_removed}\")\n",
    "print('-'*40)\n",
    "print()"
   ]
  },
  {
   "cell_type": "code",
   "execution_count": 31,
   "metadata": {},
   "outputs": [
    {
     "name": "stdout",
     "output_type": "stream",
     "text": [
      "Initial size of my_list: 200\n",
      "Final size of my_list after removing duplicates: 171\n",
      "Number of integers removed: 29\n",
      "----------------------------------------\n",
      "\n"
     ]
    }
   ],
   "source": [
    "initial_size = len(my_list) # replace the code to the left\n",
    "print(f\"Initial size of my_list: {initial_size}\")\n",
    "# cast the list to a set to remove duplicates and re-assign to my_list as a list\n",
    "my_list = list(set(my_list)) # replace the code to the left\n",
    "final_size = len(my_list) # replace the code to the left\n",
    "print(f\"Final size of my_list after removing duplicates: {final_size}\")\n",
    "dups_removed = initial_size - final_size # replace the code to the left\n",
    "print(f\"Number of integers removed: {dups_removed}\")\n",
    "print('-'*40)\n",
    "print()"
   ]
  },
  {
   "cell_type": "code",
   "execution_count": 32,
   "metadata": {},
   "outputs": [
    {
     "name": "stdout",
     "output_type": "stream",
     "text": [
      "Largest integer in my_list: 5\n",
      "----------------------------------------\n",
      "\n"
     ]
    }
   ],
   "source": [
    "# Question 3: What is the largest integer in my_list?\n",
    "largest_val = 5 # replace the code to the left\n",
    "print(f\"Largest integer in my_list: {largest_val}\")\n",
    "print('-'*40)\n",
    "print()"
   ]
  },
  {
   "cell_type": "code",
   "execution_count": 33,
   "metadata": {},
   "outputs": [
    {
     "name": "stdout",
     "output_type": "stream",
     "text": [
      "Largest integer in my_list: 498\n",
      "----------------------------------------\n",
      "\n"
     ]
    }
   ],
   "source": [
    "largest_val = max(my_list) # replace the code to the left\n",
    "print(f\"Largest integer in my_list: {largest_val}\")\n",
    "print('-'*40)\n",
    "print()"
   ]
  },
  {
   "cell_type": "code",
   "execution_count": 34,
   "metadata": {},
   "outputs": [
    {
     "name": "stdout",
     "output_type": "stream",
     "text": [
      "Smallest integer in my_list: 1\n",
      "----------------------------------------\n",
      "\n"
     ]
    }
   ],
   "source": [
    "# Question 4: What is the smallest value in my_list?\n",
    "smallest_val = 1 # replace the code to the left\n",
    "print(f\"Smallest integer in my_list: {smallest_val}\")\n",
    "print('-'*40)\n",
    "print()"
   ]
  },
  {
   "cell_type": "code",
   "execution_count": 35,
   "metadata": {},
   "outputs": [
    {
     "name": "stdout",
     "output_type": "stream",
     "text": [
      "Smallest integer in my_list: 26\n",
      "----------------------------------------\n",
      "\n"
     ]
    }
   ],
   "source": [
    "smallest_val = min(my_list) # replace the code to the left\n",
    "print(f\"Smallest integer in my_list: {smallest_val}\")\n",
    "print('-'*40)\n",
    "print()"
   ]
  },
  {
   "cell_type": "code",
   "execution_count": 36,
   "metadata": {},
   "outputs": [],
   "source": [
    "# Question 5: Create a tuple with the exact same values as my_list\n",
    "# name it my_tuple\n",
    "my_tuple = (1,2,3,4,5) # replace the code to the left"
   ]
  },
  {
   "cell_type": "code",
   "execution_count": 37,
   "metadata": {},
   "outputs": [],
   "source": [
    "my_tuple = tuple(my_list) # replace the code to the left"
   ]
  },
  {
   "cell_type": "code",
   "execution_count": 38,
   "metadata": {},
   "outputs": [
    {
     "name": "stdout",
     "output_type": "stream",
     "text": [
      "The last 3 values of the tuple are (3, 4, 5)\n",
      "----------------------------------------\n",
      "\n"
     ]
    }
   ],
   "source": [
    "# Question 6: What are the last 3 values of my_tuple?\n",
    "my_tuple_last_val = 5 # replace the code to the left\n",
    "my_tuple_sec_last_val = 4 # replace the code to the left\n",
    "my_tuple_third_last_val = 3 # replace the code to the left\n",
    "print(f\"The last 3 values of the tuple are {(my_tuple_third_last_val,my_tuple_sec_last_val,my_tuple_last_val)}\")\n",
    "print('-'*40)\n",
    "print()\n"
   ]
  },
  {
   "cell_type": "code",
   "execution_count": 39,
   "metadata": {},
   "outputs": [
    {
     "name": "stdout",
     "output_type": "stream",
     "text": [
      "The last 3 values of the tuple are (496, 497, 498)\n",
      "----------------------------------------\n",
      "\n"
     ]
    }
   ],
   "source": [
    "my_tuple_last_val = my_tuple[-1] # replace the code to the left\n",
    "my_tuple_sec_last_val = my_tuple[-2] # replace the code to the left\n",
    "my_tuple_third_last_val = my_tuple[-3] # replace the code to the left\n",
    "print(f\"The last 3 values of the tuple are {(my_tuple_third_last_val,my_tuple_sec_last_val,my_tuple_last_val)}\")\n",
    "print('-'*40)\n",
    "print()\n"
   ]
  },
  {
   "cell_type": "code",
   "execution_count": 40,
   "metadata": {},
   "outputs": [],
   "source": [
    "# Question 7: Create a new tuple with all the values of my_tuple in\n",
    "# reversed order\n",
    "my_new_tuple = (5,4,3,2,1) # replace the code to the left"
   ]
  },
  {
   "cell_type": "code",
   "execution_count": 41,
   "metadata": {},
   "outputs": [],
   "source": [
    "my_new_tuple = my_tuple[::-1] # replace the code to the left"
   ]
  },
  {
   "cell_type": "code",
   "execution_count": 42,
   "metadata": {},
   "outputs": [
    {
     "name": "stdout",
     "output_type": "stream",
     "text": [
      "First integer of my_tuple matches last integer of my_new_tuple is a True statement\n",
      "----------------------------------------\n",
      "\n"
     ]
    }
   ],
   "source": [
    "# Question 8: Does the first value of my_new_tuple match my_tuple_last_val?\n",
    "# Enter in the conditional below that will evaluate to True or False\n",
    "comparison = True # replace the code to the left\n",
    "print(f\"First integer of my_tuple matches last integer of my_new_tuple is a {comparison} statement\")\n",
    "print('-'*40)\n",
    "print()\n"
   ]
  },
  {
   "cell_type": "code",
   "execution_count": 43,
   "metadata": {},
   "outputs": [
    {
     "name": "stdout",
     "output_type": "stream",
     "text": [
      "First integer of my_tuple matches last integer of my_new_tuple is a False statement\n",
      "----------------------------------------\n",
      "\n"
     ]
    }
   ],
   "source": [
    "comparison = (my_tuple[0] == my_tuple[-1]) # replace the code to the left\n",
    "print(f\"First integer of my_tuple matches last integer of my_new_tuple is a {comparison} statement\")\n",
    "print('-'*40)\n",
    "print()\n"
   ]
  },
  {
   "cell_type": "code",
   "execution_count": 44,
   "metadata": {},
   "outputs": [
    {
     "name": "stdout",
     "output_type": "stream",
     "text": [
      "My newly created 5 integer tuple is (5, 4, 3, 2, 1)\n",
      "----------------------------------------\n",
      "\n"
     ]
    }
   ],
   "source": [
    "# Question 9: Create a new tuple with the first 5 values of my_new_tuple\n",
    "my_other_tuple = (5,4,3,2,1) # replace the code to the left\n",
    "print(f\"My newly created 5 integer tuple is {my_other_tuple}\")\n",
    "print('-'*40)\n",
    "print()"
   ]
  },
  {
   "cell_type": "code",
   "execution_count": 45,
   "metadata": {},
   "outputs": [
    {
     "name": "stdout",
     "output_type": "stream",
     "text": [
      "My newly created 5 integer tuple is (498, 497, 496, 494, 492)\n",
      "----------------------------------------\n",
      "\n"
     ]
    }
   ],
   "source": [
    "my_other_tuple = tuple(my_new_tuple[0:5]) # replace the code to the left\n",
    "print(f\"My newly created 5 integer tuple is {my_other_tuple}\")\n",
    "print('-'*40)\n",
    "print()"
   ]
  },
  {
   "cell_type": "code",
   "execution_count": 46,
   "metadata": {},
   "outputs": [
    {
     "name": "stdout",
     "output_type": "stream",
     "text": [
      "Integers in my_other_tuple match the last 5 integers of my_list is a True statement\n",
      "----------------------------------------\n",
      "\n"
     ]
    }
   ],
   "source": [
    "# Question 10: Do the integers (ignore order) of my_other_tuple match the values of\n",
    "# the last 5 integers in my_list? replace the boolean below with\n",
    "# a conditional that evaluates to True or False. You can use other variables\n",
    "# below as you need to complete this.\n",
    "tuple_and_list_comp = True # replace the code to the left\n",
    "print(f\"Integers in my_other_tuple match the last 5 integers of my_list is a {tuple_and_list_comp} statement\")\n",
    "print('-'*40)\n",
    "print()"
   ]
  },
  {
   "cell_type": "code",
   "execution_count": 47,
   "metadata": {},
   "outputs": [
    {
     "name": "stdout",
     "output_type": "stream",
     "text": [
      "Integers in my_other_tuple match the last 5 integers of my_list is a True statement\n",
      "----------------------------------------\n",
      "\n"
     ]
    }
   ],
   "source": [
    "tuple_and_list_comp = sorted(my_other_tuple) == my_list[len(my_list) - 5 : ] # replace the code to the left\n",
    "print(f\"Integers in my_other_tuple match the last 5 integers of my_list is a {tuple_and_list_comp} statement\")\n",
    "print('-'*40)\n",
    "print()"
   ]
  },
  {
   "cell_type": "code",
   "execution_count": 48,
   "metadata": {},
   "outputs": [
    {
     "name": "stdout",
     "output_type": "stream",
     "text": [
      "I can take comp sci since I need it and it's available\n",
      "----------------------------------------\n",
      "\n"
     ]
    }
   ],
   "source": [
    "# Question 11: Find the intersection between the following two sets and\n",
    "# store it in my_match\n",
    "my_requirements = {'ruby','python'}\n",
    "available_languages = {\"comp sci\", \"physics\", \"elec engr\", \"philosophy\", \"python\"}\n",
    "my_match = 'comp sci' # replace the code to the left\n",
    "print(f\"I can take {my_match} since I need it and it's available\")\n",
    "print('-'*40)\n",
    "print()"
   ]
  },
  {
   "cell_type": "code",
   "execution_count": 50,
   "metadata": {},
   "outputs": [
    {
     "name": "stdout",
     "output_type": "stream",
     "text": [
      "I can take {'python'} since I need it and it's available\n",
      "----------------------------------------\n",
      "\n"
     ]
    }
   ],
   "source": [
    "my_requirements = {'ruby','python'}\n",
    "available_languages = {\"comp sci\", \"physics\", \"elec engr\", \"philosophy\", \"python\"}\n",
    "my_match = my_requirements.intersection(available_languages) # replace the code to the left\n",
    "print(f\"I can take {my_match} since I need it and it's available\")\n",
    "print('-'*40)\n",
    "print()"
   ]
  },
  {
   "cell_type": "code",
   "execution_count": 49,
   "metadata": {},
   "outputs": [
    {
     "name": "stdout",
     "output_type": "stream",
     "text": [
      "The meanings in the dictionary are ['hi']\n"
     ]
    }
   ],
   "source": [
    "# Question 12: Given the dictionary below, create a list called my_al_list\n",
    "# which includes only the values (meaning) associated with each word.\n",
    "# my_al_list should look like ['the round fruit of a tree of the rose family',\n",
    "# 'an insect which cleans up the floor'......].\n",
    "# Obviously do this programmatically and don't hardcode it, you may use\n",
    "# other lines of code and variables as you see fit. Solution code has a couple of\n",
    "# options displayed.\n",
    "\n",
    "word_dict = {'a':\n",
    "                {\n",
    "                 'apple': 'the round fruit of a tree of the rose family',\n",
    "                 'ant': 'an insect which cleans up the floor'\n",
    "                },\n",
    "             'b':\n",
    "                {\n",
    "                 'bad': 'of poor quaity or low standard',\n",
    "                 'business': 'season 8 of GOT'\n",
    "                }\n",
    "            }\n",
    "\n",
    "my_al_list = ['hi'] # replace the code to the left\n",
    "print(f\"The meanings in the dictionary are {my_al_list}\")\n"
   ]
  },
  {
   "cell_type": "code",
   "execution_count": 51,
   "metadata": {},
   "outputs": [
    {
     "name": "stdout",
     "output_type": "stream",
     "text": [
      "The meanings in the dictionary are ['the round fruit of a tree of the rose family', 'an insect which cleans up the floor', 'of poor quaity or low standard', 'season 8 of GOT']\n"
     ]
    }
   ],
   "source": [
    "word_dict = {'a':\n",
    "                {\n",
    "                 'apple': 'the round fruit of a tree of the rose family',\n",
    "                 'ant': 'an insect which cleans up the floor'\n",
    "                },\n",
    "             'b':\n",
    "                {\n",
    "                 'bad': 'of poor quaity or low standard',\n",
    "                 'business': 'season 8 of GOT'\n",
    "                }\n",
    "            }\n",
    "\n",
    "my_al_list = []\n",
    "for letter, combo in word_dict.items():\n",
    "    for meaning in combo.values():\n",
    "        my_al_list.append(meaning)\n",
    "print(f\"The meanings in the dictionary are {my_al_list}\")\n"
   ]
  }
 ],
 "metadata": {
  "kernelspec": {
   "display_name": "Python 3",
   "language": "python",
   "name": "python3"
  },
  "language_info": {
   "codemirror_mode": {
    "name": "ipython",
    "version": 3
   },
   "file_extension": ".py",
   "mimetype": "text/x-python",
   "name": "python",
   "nbconvert_exporter": "python",
   "pygments_lexer": "ipython3",
   "version": "3.7.4"
  }
 },
 "nbformat": 4,
 "nbformat_minor": 2
}
