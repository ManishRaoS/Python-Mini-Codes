{
 "cells": [
  {
   "cell_type": "code",
   "execution_count": 22,
   "metadata": {},
   "outputs": [
    {
     "name": "stdout",
     "output_type": "stream",
     "text": [
      "Calculations section:\n",
      "num_1-> 10\n",
      "num_2-> 300\n",
      "num_3-> 27.0\n",
      "num_4-> -10\n",
      "10 multiplied by 300 is: **fill in the code here**\n",
      "27.0 divided by 10 is: **fill in the code here**\n",
      "If I use floor division instead I get: **fill in the code here**\n",
      "The absolute value of -10 is: **fill in the code here**\n",
      "I converted 10 and 300 to strings, if I add them I get: **fill in the code here**\n",
      "-10 is of the **fill in the code here** class\n",
      "----------------------------------------\n",
      "\n"
     ]
    }
   ],
   "source": [
    "# Welcome to the assessment test for Python basics.\n",
    "\n",
    "# Question 1: Given the 4 numbers below, fill in the code\n",
    "# for the 8 lines below to provide the appropriate output\n",
    "num_1 = 10\n",
    "num_2 = 300\n",
    "num_3 = 27.0\n",
    "num_4 = -10\n",
    "print(f\"Calculations section:\\nnum_1-> {num_1}\\nnum_2-> {num_2}\\nnum_3-> {num_3}\\nnum_4-> {num_4}\")\n",
    "print(f\"{num_1} multiplied by {num_2} is: **fill in the code here**\")\n",
    "print(f\"{num_3} divided by {num_1} is: **fill in the code here**\")\n",
    "print(f\"If I use floor division instead I get: **fill in the code here**\")\n",
    "print(f\"The absolute value of {num_4} is: **fill in the code here**\")\n",
    "print(f\"I converted {num_1} and {num_2} to strings, if I add them I get: **fill in the code here**\")\n",
    "print(f\"{num_4} is of the **fill in the code here** class\")\n",
    "print(\"-\"*40)\n",
    "print()"
   ]
  },
  {
   "cell_type": "code",
   "execution_count": 23,
   "metadata": {},
   "outputs": [
    {
     "name": "stdout",
     "output_type": "stream",
     "text": [
      "Calculations section:\n",
      "num_1-> 10\n",
      "num_2-> 300\n",
      "num_3-> 27.0\n",
      "num_4-> -10\n",
      "10 multiplied by 300 is: 3000\n",
      "27.0 divided by 10 is: 2.7\n",
      "If I use floor division instead I get: 2.0\n",
      "The absolute value of -10 is: 10\n",
      "I converted 10 and 300 to strings, if I add them I get: 10300\n",
      "-10 is of the <class 'int'> class\n",
      "----------------------------------------\n",
      "\n"
     ]
    }
   ],
   "source": [
    "num_1 = 10\n",
    "num_2 = 300\n",
    "num_3 = 27.0\n",
    "num_4 = -10\n",
    "print(f\"Calculations section:\\nnum_1-> {num_1}\\nnum_2-> {num_2}\\nnum_3-> {num_3}\\nnum_4-> {num_4}\")\n",
    "print(f\"{num_1} multiplied by {num_2} is: {num_1 * num_2}\")\n",
    "print(f\"{num_3} divided by {num_1} is: {num_3 / num_1}\")\n",
    "print(f\"If I use floor division instead I get: {num_3 // num_1}\")\n",
    "print(f\"The absolute value of {num_4} is: {abs(num_4)}\")\n",
    "print(f\"I converted {num_1} and {num_2} to strings, if I add them I get: {str(num_1) + str(num_2)}\")\n",
    "print(f\"{num_4} is of the {type(num_4)} class\")\n",
    "print(\"-\"*40)\n",
    "print()"
   ]
  },
  {
   "cell_type": "code",
   "execution_count": 24,
   "metadata": {},
   "outputs": [
    {
     "name": "stdout",
     "output_type": "stream",
     "text": [
      "Added: Price updater\n",
      "Begin: 17:30:00\n",
      "End: 18:30:00\n",
      "----------------------------------------\n",
      "\n"
     ]
    }
   ],
   "source": [
    "# Question 2a: Use two tabs to separate the evaluated variables in the string\n",
    "# below. Example output-> Added:     Price updater\n",
    "#                         Begin:     17:30:00\n",
    "#                         End:       18:30:00\n",
    "name_of_job = \"Price updater\"\n",
    "begin_time = \"17:30:00\"\n",
    "end_time = \"18:30:00\"\n",
    "print(f\"Added: {name_of_job}\")\n",
    "print(f\"Begin: {begin_time}\")\n",
    "print(f\"End: {end_time}\")\n",
    "print(\"-\"*40)\n",
    "print()"
   ]
  },
  {
   "cell_type": "code",
   "execution_count": 25,
   "metadata": {},
   "outputs": [
    {
     "name": "stdout",
     "output_type": "stream",
     "text": [
      "Added: \t\tPrice updater\n",
      "Begin: \t\t17:30:00\n",
      "End: \t\t18:30:00\n",
      "----------------------------------------\n",
      "\n"
     ]
    }
   ],
   "source": [
    "name_of_job = \"Price updater\"\n",
    "begin_time = \"17:30:00\"\n",
    "end_time = \"18:30:00\"\n",
    "print(f\"Added: \\t\\t{name_of_job}\")\n",
    "print(f\"Begin: \\t\\t{begin_time}\")\n",
    "print(f\"End: \\t\\t{end_time}\")\n",
    "print(\"-\"*40)\n",
    "print()"
   ]
  },
  {
   "cell_type": "code",
   "execution_count": 26,
   "metadata": {},
   "outputs": [
    {
     "name": "stdout",
     "output_type": "stream",
     "text": [
      "Added: Price updater Begin: 17:30:00 End: 18:30:00\n",
      "----------------------------------------\n",
      "\n"
     ]
    }
   ],
   "source": [
    "# Question 2b: Use new lines in addition to the two tabs noted above to\n",
    "# separate the evaluated variables in the string below.\n",
    "# Example output-> Added:     Price updater\n",
    "#                  Begin:     17:30:00\n",
    "#                  End:       18:30:00\n",
    "print(f\"Added: {name_of_job} Begin: {begin_time} End: {end_time}\")\n",
    "print(\"-\"*40)\n",
    "print()"
   ]
  },
  {
   "cell_type": "code",
   "execution_count": 27,
   "metadata": {},
   "outputs": [
    {
     "name": "stdout",
     "output_type": "stream",
     "text": [
      "Added: \t\tPrice updater \n",
      "Begin: \t\t17:30:00 \n",
      "End: \t\t18:30:00\n",
      "----------------------------------------\n",
      "\n"
     ]
    }
   ],
   "source": [
    "print(f\"Added: \\t\\t{name_of_job} \\nBegin: \\t\\t{begin_time} \\nEnd: \\t\\t{end_time}\")\n",
    "print(\"-\"*40)\n",
    "print()"
   ]
  },
  {
   "cell_type": "code",
   "execution_count": 10,
   "metadata": {},
   "outputs": [
    {
     "name": "stdout",
     "output_type": "stream",
     "text": [
      "Price updater scheduled to begin at 17:30:00 and end at 18:30:00\n",
      "----------------------------------------\n",
      "\n"
     ]
    }
   ],
   "source": [
    "# Question 3: Use the .format method to update the line below\n",
    "print(name_of_job, \"scheduled to begin at\", begin_time, \"and end at\", end_time)\n",
    "print(\"-\"*40)\n",
    "print()"
   ]
  },
  {
   "cell_type": "code",
   "execution_count": 9,
   "metadata": {},
   "outputs": [
    {
     "name": "stdout",
     "output_type": "stream",
     "text": [
      "Price updater scheduled to begin at begin_time 17:30:00 and end at 18:30:00\n",
      "----------------------------------------\n",
      "\n"
     ]
    }
   ],
   "source": [
    "print(\"{} scheduled to begin at begin_time {} and end at {}\".format(name_of_job, begin_time, end_time))\n",
    "print(\"-\"*40)\n",
    "print()"
   ]
  },
  {
   "cell_type": "code",
   "execution_count": 11,
   "metadata": {},
   "outputs": [
    {
     "name": "stdout",
     "output_type": "stream",
     "text": [
      "2 to the power of 5 is listed below...\n",
      "**fill in code here**\n",
      "----------------------------------------\n",
      "\n"
     ]
    }
   ],
   "source": [
    "# Question 4: Use the pow function from math module to evaluate 2 to the\n",
    "# power of 5, or 2^5\n",
    "import math\n",
    "print(\"2 to the power of 5 is listed below...\")\n",
    "print(\"**fill in code here**\")\n",
    "print(\"-\"*40)\n",
    "print()"
   ]
  },
  {
   "cell_type": "code",
   "execution_count": 12,
   "metadata": {},
   "outputs": [
    {
     "name": "stdout",
     "output_type": "stream",
     "text": [
      "2 to the power of 5 is listed below...\n",
      "32.0\n",
      "----------------------------------------\n",
      "\n"
     ]
    }
   ],
   "source": [
    "import math\n",
    "print(\"2 to the power of 5 is listed below...\")\n",
    "print(math.pow(2,5))\n",
    "print(\"-\"*40)\n",
    "print()"
   ]
  },
  {
   "cell_type": "code",
   "execution_count": 13,
   "metadata": {},
   "outputs": [
    {
     "name": "stdout",
     "output_type": "stream",
     "text": [
      "log base 2 of 32 is listed below...\n",
      "**fill in code here**\n",
      "----------------------------------------\n",
      "\n"
     ]
    }
   ],
   "source": [
    "# Question 5: Use the log2 function from math module to evalute log base 2\n",
    "# of 32\n",
    "print(\"log base 2 of 32 is listed below...\")\n",
    "print(\"**fill in code here**\")\n",
    "print(\"-\"*40)\n",
    "print()"
   ]
  },
  {
   "cell_type": "code",
   "execution_count": 14,
   "metadata": {},
   "outputs": [
    {
     "name": "stdout",
     "output_type": "stream",
     "text": [
      "log base 2 of 32 is listed below...\n",
      "5.0\n",
      "----------------------------------------\n",
      "\n"
     ]
    }
   ],
   "source": [
    "print(\"log base 2 of 32 is listed below...\")\n",
    "print(math.log2(32))\n",
    "print(\"-\"*40)\n",
    "print()"
   ]
  },
  {
   "cell_type": "code",
   "execution_count": 15,
   "metadata": {},
   "outputs": [
    {
     "name": "stdout",
     "output_type": "stream",
     "text": [
      "The last 6 letters of the welcome message:\n",
      "'Hello and welcome to the land of Python'\n",
      "are: '**fill in the code here**'\n"
     ]
    }
   ],
   "source": [
    "# Question 6: Use slicing notation to print the last 6 letters of the string\n",
    "# below. Assume you donot know the start index or the length of the string upfront.\n",
    "# Hint: You will need to use a function to find the length first and then use that,\n",
    "# in combination with the number to come up with the start index\n",
    "welcome_message = \"Hello and welcome to the land of Python\"\n",
    "print(f\"The last 6 letters of the welcome message:\\n'{welcome_message}'\\nare: '**fill in the code here**'\")"
   ]
  },
  {
   "cell_type": "code",
   "execution_count": 21,
   "metadata": {},
   "outputs": [
    {
     "name": "stdout",
     "output_type": "stream",
     "text": [
      "The last 6 letters of the welcome message:\n",
      "'Hello and welcome to the land of Python'\n",
      "are: 'Python'\n"
     ]
    }
   ],
   "source": [
    "welcome_message = \"Hello and welcome to the land of Python\"\n",
    "print(f\"The last 6 letters of the welcome message:\\n'{welcome_message}'\\nare: '{welcome_message[len(welcome_message) - 6:]}'\")"
   ]
  }
 ],
 "metadata": {
  "kernelspec": {
   "display_name": "Python 3",
   "language": "python",
   "name": "python3"
  },
  "language_info": {
   "codemirror_mode": {
    "name": "ipython",
    "version": 3
   },
   "file_extension": ".py",
   "mimetype": "text/x-python",
   "name": "python",
   "nbconvert_exporter": "python",
   "pygments_lexer": "ipython3",
   "version": "3.7.4"
  }
 },
 "nbformat": 4,
 "nbformat_minor": 2
}
